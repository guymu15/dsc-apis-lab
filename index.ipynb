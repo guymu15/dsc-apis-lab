{
 "cells": [
  {
   "cell_type": "markdown",
   "metadata": {},
   "source": [
    "# APIs - Cumulative Lab\n",
    "\n",
    "\n",
    "## Introduction \n",
    "\n",
    "We've seen how the Yelp API works and how to create basic visualizations using Folium. It's time to put those skills to work in order to create a working map! Taking things a step further, you'll also independently explore how to perform pagination in order to retrieve a full results set from the Yelp API.\n",
    "\n",
    "## Objectives\n",
    "\n",
    "You will be able to: \n",
    "\n",
    "* Practice using functions to organize your code\n",
    "* Use pagination to retrieve all results from an API query\n",
    "* Practice parsing data returned from an API query\n",
    "* Practice interpreting visualizations of a dataset\n",
    "* Create maps using Folium"
   ]
  },
  {
   "cell_type": "markdown",
   "metadata": {},
   "source": [
    "## Your Task: Query Yelp for All Businesses in a Category and Analyze the Results\n",
    "\n",
    "![restaurant counter with pizza](images/restaurant_counter.jpg)\n",
    "\n",
    "Photo by <a href=\"https://unsplash.com/@jordanmadrid?utm_source=unsplash&utm_medium=referral&utm_content=creditCopyText\">Jordan Madrid</a> on <a href=\"/s/photos/pizza-restaurant?utm_source=unsplash&utm_medium=referral&utm_content=creditCopyText\">Unsplash</a>"
   ]
  },
  {
   "cell_type": "markdown",
   "metadata": {},
   "source": [
    "### Overview\n",
    "\n",
    "You've now worked with some API calls, but we have yet to see how to retrieve a more complete dataset in a programmatic manner. In this lab, you will write a query of businesses on Yelp, then use *pagination* to retrieve all possible results for that query. Then you will create a summary of your findings, including a Folium map of the geographic locations of those businesses.\n",
    "\n",
    "### Technical Details\n",
    "\n",
    "Returning to the Yelp API, the [documentation](https://www.yelp.com/developers/documentation/v3/business_search) also provides us details regarding the **API limits**. These often include details about the number of requests a user is allowed to make within a specified time limit and the maximum number of results to be returned. In this case, we are told that any request has a **maximum of 50 results per request** and defaults to 20. Furthermore, any search will be limited to a **total of 1000 results**. To retrieve all 1000 of these results, we would have to page through the results piece by piece, retrieving 50 at a time. Processes such as these are often referred to as pagination.\n",
    "\n",
    "Also, be mindful of the **API** ***rate*** **limits**. You can only make **5000 requests per day** and are also can make requests too fast. Start prototyping small before running a loop that could be faulty. You can also use `time.sleep(n)` to add delays. For more details see https://www.yelp.com/developers/documentation/v3/rate_limiting.\n",
    "\n",
    "In this lab, you will define a search and then paginate over the results to retrieve all of the results. You'll then parse these responses as a list of dictionaries (for further exploration) and create a map using Folium to visualize the results geographically.\n",
    "\n",
    "### Requirements\n",
    "\n",
    "#### 1. Make the Initial Request\n",
    "\n",
    "Start by filling in your API key to make the initial request to the business search API. Investigate the structure of the response you get back and start figuring out how you will extract the relevant information.\n",
    "\n",
    "#### 2. Add Pagination\n",
    "\n",
    "Using loops and functions, collect the maximum number of results for your query from the API.\n",
    "\n",
    "#### 3. Perform Exploratory Analysis\n",
    "\n",
    "Interpret visualizations related to the price range, average rating, and number of reviews for all query results.\n",
    "\n",
    "#### 4. Create a Folium Map\n",
    "\n",
    "Using latitude and longitude data, plot the query results on an interactive map."
   ]
  },
  {
   "cell_type": "markdown",
   "metadata": {},
   "source": [
    "## 1. Make the Initial Request\n",
    "\n",
    "### Querying\n",
    "\n",
    "Start by making an initial request to the Yelp API. Your search must include at least 2 parameters: **term** and **location**. For example, you might search for pizza restaurants in NYC. The term and location is up to you but make the request below.\n",
    "\n",
    "Use the `requests` library ([documentation here](https://requests.readthedocs.io/en/master/user/quickstart/#make-a-request)).\n",
    "\n",
    "You'll also need an API key from Yelp. If you haven't done this already, go to the Yelp [Manage App page](https://www.yelp.com/developers/v3/manage_app) and create a new app (after making an account if you haven't already)."
   ]
  },
  {
   "cell_type": "code",
   "execution_count": 2,
   "metadata": {},
   "outputs": [
    {
     "data": {
      "text/plain": [
       "<Response [200]>"
      ]
     },
     "execution_count": 2,
     "metadata": {},
     "output_type": "execute_result"
    }
   ],
   "source": [
    "# Replace None with appropriate code\n",
    "\n",
    "# Import the requests library\n",
    "import requests \n",
    "\n",
    "# Get this from the \"Manage App\" page. Make sure you set them\n",
    "# back to None before pushing this to GitHub, since otherwise\n",
    "# your credentials will be compromised\n",
    "api_key = 'MEeSrZlt6Chap2FYfWxc-vDGU7Vpk5TKih6AqmHq8tcoZMekoJapzaMFwOmkjWgYBa3zQ9fOWLvsRzcTh7o9MqaGPVjHfzc9GIBof-BRPbI_13qoCT8tDhjLIG-lYXYx'\n",
    "\n",
    "# These can be whatever you want! But the solution uses \"pizza\"\n",
    "# and \"New York NY\" if you want to compare your work directly\n",
    "term = 'ramen'\n",
    "location = 'New york NY'\n",
    "\n",
    "# Set up params for request\n",
    "url = \"https://api.yelp.com/v3/businesses/search\"\n",
    "headers = {\n",
    "    \"Authorization\": \"Bearer {}\".format(api_key)\n",
    "}\n",
    "url_params = {\n",
    "    \"term\": term.replace(\" \", \"+\"),\n",
    "    \"location\": location.replace(\" \", \"+\")\n",
    "}\n",
    "\n",
    "# Make the request using requests.get, passing in\n",
    "# url, headers=headers, and params=url_params\n",
    "response = requests.get(url, headers=headers, params=url_params)\n",
    "\n",
    "# Confirm we got a 200 response\n",
    "response"
   ]
  },
  {
   "cell_type": "code",
   "execution_count": 3,
   "metadata": {},
   "outputs": [
    {
     "data": {
      "text/plain": [
       "dict_keys(['businesses', 'total', 'region'])"
      ]
     },
     "execution_count": 3,
     "metadata": {},
     "output_type": "execute_result"
    }
   ],
   "source": [
    "# Run this cell without changes\n",
    "\n",
    "# Get the response body in JSON format\n",
    "response_json = response.json()\n",
    "# View the keys\n",
    "response_json.keys()"
   ]
  },
  {
   "cell_type": "markdown",
   "metadata": {},
   "source": [
    "### Extracting Data\n",
    "\n",
    "Now, retrieve the value associated with the `'businesses'` key, and inspect its contents."
   ]
  },
  {
   "cell_type": "code",
   "execution_count": 4,
   "metadata": {},
   "outputs": [
    {
     "data": {
      "text/plain": [
       "[{'id': 'OFfZUS-nu6NDnsWe1B2bUQ',\n",
       "  'alias': 'tonchin-new-york-new-york',\n",
       "  'name': 'TONCHIN NEW YORK',\n",
       "  'image_url': 'https://s3-media1.fl.yelpcdn.com/bphoto/4OvK45jvFYpAoU8e2QfJfQ/o.jpg',\n",
       "  'is_closed': False,\n",
       "  'url': 'https://www.yelp.com/biz/tonchin-new-york-new-york?adjust_creative=_5Oef8AAKvK6EjIGSAaKow&utm_campaign=yelp_api_v3&utm_medium=api_v3_business_search&utm_source=_5Oef8AAKvK6EjIGSAaKow',\n",
       "  'review_count': 1469,\n",
       "  'categories': [{'alias': 'ramen', 'title': 'Ramen'},\n",
       "   {'alias': 'izakaya', 'title': 'Izakaya'}],\n",
       "  'rating': 4.5,\n",
       "  'coordinates': {'latitude': 40.7502727, 'longitude': -73.9844951},\n",
       "  'transactions': ['pickup', 'delivery'],\n",
       "  'price': '$$',\n",
       "  'location': {'address1': '13 W 36th St',\n",
       "   'address2': None,\n",
       "   'address3': '',\n",
       "   'city': 'New York',\n",
       "   'zip_code': '10018',\n",
       "   'country': 'US',\n",
       "   'state': 'NY',\n",
       "   'display_address': ['13 W 36th St', 'New York, NY 10018']},\n",
       "  'phone': '+16466929912',\n",
       "  'display_phone': '(646) 692-9912',\n",
       "  'distance': 5052.538311265594},\n",
       " {'id': 'eyqVOLoOLrqZ98_QhdPXqg',\n",
       "  'alias': 'ramen-danbo-brooklyn',\n",
       "  'name': 'Ramen Danbo',\n",
       "  'image_url': 'https://s3-media1.fl.yelpcdn.com/bphoto/0tvbgvu0q6pzq4VTOfJWpQ/o.jpg',\n",
       "  'is_closed': False,\n",
       "  'url': 'https://www.yelp.com/biz/ramen-danbo-brooklyn?adjust_creative=_5Oef8AAKvK6EjIGSAaKow&utm_campaign=yelp_api_v3&utm_medium=api_v3_business_search&utm_source=_5Oef8AAKvK6EjIGSAaKow',\n",
       "  'review_count': 346,\n",
       "  'categories': [{'alias': 'ramen', 'title': 'Ramen'},\n",
       "   {'alias': 'noodles', 'title': 'Noodles'}],\n",
       "  'rating': 4.5,\n",
       "  'coordinates': {'latitude': 40.6761199579391,\n",
       "   'longitude': -73.9745199680328},\n",
       "  'transactions': ['pickup', 'delivery'],\n",
       "  'price': '$$',\n",
       "  'location': {'address1': '52 7th Ave',\n",
       "   'address2': '',\n",
       "   'address3': None,\n",
       "   'city': 'Brooklyn',\n",
       "   'zip_code': '11217',\n",
       "   'country': 'US',\n",
       "   'state': 'NY',\n",
       "   'display_address': ['52 7th Ave', 'Brooklyn, NY 11217']},\n",
       "  'phone': '+17187830150',\n",
       "  'display_phone': '(718) 783-0150',\n",
       "  'distance': 3662.23706043525}]"
      ]
     },
     "execution_count": 4,
     "metadata": {},
     "output_type": "execute_result"
    }
   ],
   "source": [
    "# Replace None with appropriate code\n",
    "\n",
    "# Retrieve the value from response_json\n",
    "businesses = response_json['businesses']\n",
    "\n",
    "# View the first 2 records\n",
    "businesses[:2]"
   ]
  },
  {
   "cell_type": "markdown",
   "metadata": {},
   "source": [
    "### Preparing Data\n",
    "\n",
    "Write a function `prepare_data` that takes in a list of dictionaries like `businesses` and returns a copy that has been prepared for analysis:\n",
    "\n",
    "1. The `coordinates` key-value pair has been converted into two separate key-value pairs, `latitude` and `longitude`\n",
    "2. All other key-value pairs except for `name`, `review_count`, `rating`, and `price` have been dropped\n",
    "3. All dictionaries missing one of the relevant keys or containing null values have been dropped\n",
    "\n",
    "In other words, the final keys for each dictionary should be `name`, `review_count`, `rating`, `price`, `latitude`, and `longitude`.\n",
    "\n",
    "Complete the function in the cell below:"
   ]
  },
  {
   "cell_type": "code",
   "execution_count": 7,
   "metadata": {},
   "outputs": [
    {
     "data": {
      "text/plain": [
       "[{'name': 'TONCHIN NEW YORK',\n",
       "  'review_count': 1469,\n",
       "  'rating': 4.5,\n",
       "  'price': '$$',\n",
       "  'latitude': 40.7502727,\n",
       "  'longitude': -73.9844951},\n",
       " {'name': 'Ramen Danbo',\n",
       "  'review_count': 346,\n",
       "  'rating': 4.5,\n",
       "  'price': '$$',\n",
       "  'latitude': 40.6761199579391,\n",
       "  'longitude': -73.9745199680328},\n",
       " {'name': 'Marufuku Ramen - New York',\n",
       "  'review_count': 71,\n",
       "  'rating': 4.5,\n",
       "  'price': '$$',\n",
       "  'latitude': 40.72697,\n",
       "  'longitude': -73.98863},\n",
       " {'name': 'Ippudo NY',\n",
       "  'review_count': 10126,\n",
       "  'rating': 4.0,\n",
       "  'price': '$$',\n",
       "  'latitude': 40.73092,\n",
       "  'longitude': -73.99015},\n",
       " {'name': 'Raku',\n",
       "  'review_count': 1241,\n",
       "  'rating': 4.5,\n",
       "  'price': '$$',\n",
       "  'latitude': 40.7264988089246,\n",
       "  'longitude': -73.9866526052356}]"
      ]
     },
     "execution_count": 7,
     "metadata": {},
     "output_type": "execute_result"
    }
   ],
   "source": [
    "# Replace None with appropriate code\n",
    "\n",
    "def prepare_data(data_list):\n",
    "    \"\"\"\n",
    "    This function takes in a list of dictionaries and prepares it\n",
    "    for analysis\n",
    "    \"\"\"\n",
    "    \n",
    "    # Make a new list to hold results\n",
    "    results = []\n",
    "    \n",
    "    for business_data in data_list:\n",
    "    \n",
    "        # Make a new dictionary to hold prepared data for this business\n",
    "        prepared_data = {}\n",
    "        \n",
    "        # Extract name, review_count, rating, and price key-value pairs\n",
    "        # from business_data and add to prepared_data\n",
    "        # If a key is not present in business_data, add it to prepared_data\n",
    "        # with an associated value of None\n",
    "        for key in (\"name\", \"review_count\", \"rating\", \"price\"):\n",
    "            prepared_data[key] = business_data.get(key, None)\n",
    "    \n",
    "        # Parse and add latitude and longitude columns\n",
    "        coordinates = business_data[\"coordinates\"]\n",
    "        prepared_data[\"latitude\"] = coordinates[\"latitude\"]\n",
    "        prepared_data[\"longitude\"] = coordinates[\"longitude\"]\n",
    "        \n",
    "        # Add to list if all values are present\n",
    "        if all(prepared_data.values()):\n",
    "            results.append(prepared_data)\n",
    "    \n",
    "    return results\n",
    "    \n",
    "# Test out function\n",
    "prepared_businesses = prepare_data(businesses)\n",
    "prepared_businesses[:5]"
   ]
  },
  {
   "cell_type": "markdown",
   "metadata": {},
   "source": [
    "Check that your function created the correct keys:"
   ]
  },
  {
   "cell_type": "code",
   "execution_count": 8,
   "metadata": {},
   "outputs": [],
   "source": [
    "# Run this cell without changes\n",
    "\n",
    "assert sorted(list(prepared_businesses[0].keys())) == ['latitude', 'longitude', 'name', 'price', 'rating', 'review_count']"
   ]
  },
  {
   "cell_type": "markdown",
   "metadata": {},
   "source": [
    "The following code will differ depending on your query, but we expect there to be 20 businesses in the original list, and potentially fewer in the prepared list (if any of them were missing data):"
   ]
  },
  {
   "cell_type": "code",
   "execution_count": 9,
   "metadata": {},
   "outputs": [
    {
     "name": "stdout",
     "output_type": "stream",
     "text": [
      "Original: 20\n",
      "Prepared: 20\n"
     ]
    }
   ],
   "source": [
    "# Run this cell without changes\n",
    "print(\"Original:\", len(businesses))\n",
    "print(\"Prepared:\", len(prepared_businesses))"
   ]
  },
  {
   "cell_type": "markdown",
   "metadata": {},
   "source": [
    "Great! We will reuse this function once we have retrieved the full dataset."
   ]
  },
  {
   "cell_type": "markdown",
   "metadata": {},
   "source": [
    "## 2. Add Pagination\n",
    "\n",
    "Now that you are able to extract information from one page of the response, let's figure out how to request as many pages as possible.\n",
    "\n",
    "### Determining the Total\n",
    "\n",
    "Depending on the number of total results for your query, you will either retrieve all of the results, or just the first 1000 (if there are more than 1000 total).\n",
    "\n",
    "We can find the total number of results using the `\"total\"` key:"
   ]
  },
  {
   "cell_type": "code",
   "execution_count": 10,
   "metadata": {},
   "outputs": [
    {
     "data": {
      "text/plain": [
       "240"
      ]
     },
     "execution_count": 10,
     "metadata": {},
     "output_type": "execute_result"
    }
   ],
   "source": [
    "# Run this cell without changes\n",
    "response_json[\"total\"]"
   ]
  },
  {
   "cell_type": "markdown",
   "metadata": {},
   "source": [
    "(This is specific to the implementation of the Yelp API. Some APIs will just tell you that there are more pages, or will tell you the number of pages total, rather than the total number of results. If you're not sure, always check the documentation.)\n",
    "\n",
    "In the cell below, assign the variable `total` to either the value shown above (if it is less than 1000), or 1000."
   ]
  },
  {
   "cell_type": "code",
   "execution_count": 11,
   "metadata": {},
   "outputs": [],
   "source": [
    "# Replace None with appropriate code\n",
    "total = 240"
   ]
  },
  {
   "cell_type": "markdown",
   "metadata": {},
   "source": [
    "### Calculating the Offsets\n",
    "\n",
    "The documentation states in the parameters section:\n",
    "\n",
    "> **Name**: `limit`, **Type:** int, **Description:** Optional. Number of business results to return. By default, it will return 20. Maximum is 50.\n",
    "\n",
    "> **Name**: `offset`, **Type:** int, **Description:** Optional. Offset the list of returned business results by this amount.\n",
    "\n",
    "So, to get the most results with the fewest API calls we want to set a limit of 50 every time. If, say, we wanted to get 210 total results, that would mean:\n",
    "\n",
    "1. Offset of `0` (first 50 records)\n",
    "2. Offset of `50` (second 50 records)\n",
    "3. Offset of `100` (third 50 records)\n",
    "4. Offset of `150` (fourth 50 records)\n",
    "5. Offset of `200` (final 10 records)\n",
    "\n",
    "In the cell below, create a function `get_offsets` that takes in a total and returns a list of offsets for that total. You can assume that there is a limit of 50 every time.\n",
    "\n",
    "*Hint: you can use `range` ([documentation here](https://docs.python.org/3.3/library/stdtypes.html?highlight=range#range)) to do this in one line of code. Just make the returned result is a list.*"
   ]
  },
  {
   "cell_type": "code",
   "execution_count": 14,
   "metadata": {},
   "outputs": [],
   "source": [
    "# Replace None with appropriate code\n",
    "def get_offsets(total):\n",
    "    \"\"\"\n",
    "    Get a list of offsets needed to get all pages\n",
    "    of data up until the total\n",
    "    \"\"\"\n",
    "    return list(range(0,total,50))"
   ]
  },
  {
   "cell_type": "markdown",
   "metadata": {},
   "source": [
    "Check that your function works below:"
   ]
  },
  {
   "cell_type": "code",
   "execution_count": 15,
   "metadata": {},
   "outputs": [],
   "source": [
    "# Run this cell without changes\n",
    "\n",
    "assert get_offsets(200) == [0, 50, 100, 150]\n",
    "assert get_offsets(210) == [0, 50, 100, 150, 200]"
   ]
  },
  {
   "cell_type": "markdown",
   "metadata": {},
   "source": [
    "### Putting It All Together\n",
    "\n",
    "Recall that the following variable has already been declared for you:"
   ]
  },
  {
   "cell_type": "code",
   "execution_count": 16,
   "metadata": {},
   "outputs": [
    {
     "data": {
      "text/plain": [
       "{'term': 'ramen', 'location': 'New+york+NY'}"
      ]
     },
     "execution_count": 16,
     "metadata": {},
     "output_type": "execute_result"
    }
   ],
   "source": [
    "# Run this cell without changes\n",
    "url_params"
   ]
  },
  {
   "cell_type": "markdown",
   "metadata": {},
   "source": [
    "We'll go ahead and also specify that the limit should be 50 every time:"
   ]
  },
  {
   "cell_type": "code",
   "execution_count": 17,
   "metadata": {},
   "outputs": [],
   "source": [
    "# Run this cell without changes\n",
    "url_params[\"limit\"] = 50"
   ]
  },
  {
   "cell_type": "markdown",
   "metadata": {},
   "source": [
    "In order to modify the offset, you'll need to add it to `url_params` with the key `\"offset\"` and whatever value is needed.\n",
    "\n",
    "In the cell below, write code that:\n",
    "\n",
    "* Creates an empty list for the full prepared dataset\n",
    "* Loops over all of the offsets from `get_offsets` and makes an API call each time with the specified offset\n",
    "* Calls `prepare_data` to get a cleaned version of the result of each API call\n",
    "* Extends the full prepared dataset list with each query's prepared dataset"
   ]
  },
  {
   "cell_type": "code",
   "execution_count": 20,
   "metadata": {},
   "outputs": [
    {
     "data": {
      "text/plain": [
       "226"
      ]
     },
     "execution_count": 20,
     "metadata": {},
     "output_type": "execute_result"
    }
   ],
   "source": [
    "# Replace None with appropriate code\n",
    "\n",
    "# Create an empty list for the full prepared dataset\n",
    "full_dataset = []\n",
    "\n",
    "for offset in get_offsets(total):\n",
    "    # Add or update the \"offset\" key-value pair in url_params\n",
    "    url_params['offset'] = offset\n",
    "    \n",
    "    # Make the query and get the response\n",
    "    response = requests.get(url, headers=headers, params=url_params)\n",
    "    \n",
    "    # Get the response body in JSON format\n",
    "    response_json = response.json()\n",
    "    \n",
    "    # Get the list of businesses from the response_json\n",
    "    businesses = response_json['businesses']\n",
    "    \n",
    "    # Call the prepare_data function to get a list of processed data\n",
    "    prepared_businesses = prepare_data(businesses)\n",
    "    \n",
    "    # Extend full_dataset with this list (don't append, or you'll get\n",
    "    # a list of lists instead of a flat list)\n",
    "    full_dataset.extend(prepared_businesses)\n",
    "\n",
    "# Check the length of the full dataset. It will be up to `total`,\n",
    "# potentially less if there were missing values\n",
    "len(full_dataset)"
   ]
  },
  {
   "cell_type": "markdown",
   "metadata": {},
   "source": [
    "This code may take up to a few minutes to run.\n",
    "\n",
    "If you get an error trying to get the response body in JSON format, try adding `time.sleep(1)` right after the `requests.get` line, so your code will sleep for 1 second between each API call."
   ]
  },
  {
   "cell_type": "markdown",
   "metadata": {},
   "source": [
    "## 3. Perform Exploratory Analysis\n",
    "\n",
    "Take the businesses from the previous question and do an initial exploratory analysis. We have provided some plots for you to interpret:"
   ]
  },
  {
   "cell_type": "code",
   "execution_count": 21,
   "metadata": {},
   "outputs": [
    {
     "data": {
      "image/png": "[encoded data removed]",
      "text/plain": [
       "<Figure size 1152x360 with 3 Axes>"
      ]
     },
     "metadata": {
      "needs_background": "light"
     },
     "output_type": "display_data"
    }
   ],
   "source": [
    "# Run this cell without changes\n",
    "from collections import Counter\n",
    "import matplotlib.pyplot as plt\n",
    "%matplotlib inline\n",
    "\n",
    "fig, (ax1, ax2, ax3) = plt.subplots(ncols=3, figsize=(16, 5))\n",
    "\n",
    "# Plot distribution of number of reviews\n",
    "all_review_counts = [x[\"review_count\"] for x in full_dataset]\n",
    "ax1.hist(all_review_counts)\n",
    "ax1.set_title(\"Review Count Distribution\")\n",
    "ax1.set_xlabel(\"Number of Reviews\")\n",
    "ax1.set_ylabel(\"Number of Businesses\")\n",
    "\n",
    "# Plot rating distribution\n",
    "all_ratings = [x[\"rating\"] for x in full_dataset]\n",
    "rating_counter = Counter(all_ratings)\n",
    "rating_keys = sorted(rating_counter.keys())\n",
    "ax2.bar(rating_keys, [rating_counter[key] for key in rating_keys])\n",
    "ax2.set_title(\"Rating Distribution\")\n",
    "ax2.set_xlabel(\"Rating\")\n",
    "ax2.set_ylabel(\"Number of Businesses\")\n",
    "\n",
    "# Plot price distribution\n",
    "all_prices = [x[\"price\"].replace(\"$\", r\"\\$\") for x in full_dataset]\n",
    "price_counter = Counter(all_prices)\n",
    "price_keys = sorted(price_counter.keys())\n",
    "ax3.bar(price_keys, [price_counter[key] for key in price_keys])\n",
    "ax3.set_title(\"Price Distribution\")\n",
    "ax3.set_xlabel(\"Price Category\")\n",
    "ax3.set_ylabel(\"Number of Businesses\");"
   ]
  },
  {
   "cell_type": "markdown",
   "metadata": {},
   "source": [
    "Describe the distributions displayed above and interpret them in the context of your query. (Your answer may differ from the solution branch depending on your query.)"
   ]
  },
  {
   "cell_type": "code",
   "execution_count": null,
   "metadata": {},
   "outputs": [],
   "source": [
    "# Replace None with appropriate text\n",
    "\"\"\"\n",
    "we can see mot Businesses has less than 3000 reviews with a marginal amount of Businesses having more, that would indecate that \n",
    "the rating of some Businesses wont really represent the quality as we lack input.\n",
    "\n",
    "the rating peaks at around 4 which means that 4 out of 5 is the typical rating for those Businesses.\n",
    "we can see no Business scored less than 2.5.\n",
    "\n",
    "that price dosent spread too much, most of the Businesses recived price rating of $$, we can see from that that most Businesses\n",
    "sell ramen at the same price point.\n",
    "\"\"\""
   ]
  },
  {
   "cell_type": "markdown",
   "metadata": {},
   "source": [
    "In the cell below, we also plot the rating distributions by price. In this setup, a price of one dollar sign is \"lower price\" and everything else is \"higher price\"."
   ]
  },
  {
   "cell_type": "code",
   "execution_count": 22,
   "metadata": {},
   "outputs": [
    {
     "data": {
      "image/png": "[encoded data removed]",
      "text/plain": [
       "<Figure size 432x288 with 1 Axes>"
      ]
     },
     "metadata": {
      "needs_background": "light"
     },
     "output_type": "display_data"
    }
   ],
   "source": [
    "# Run this cell without changes\n",
    "\n",
    "higher_price = []\n",
    "lower_price = []\n",
    "for row in full_dataset:\n",
    "    if row[\"price\"] == \"$\":\n",
    "        lower_price.append(row[\"rating\"])\n",
    "    else:\n",
    "        higher_price.append(row[\"rating\"])\n",
    "        \n",
    "fig, ax = plt.subplots()\n",
    "\n",
    "ax.hist([higher_price, lower_price], label=[\"higher price\", \"lower price\"], density=True)\n",
    "\n",
    "ax.legend();"
   ]
  },
  {
   "cell_type": "markdown",
   "metadata": {},
   "source": [
    "Is a higher price associated with a higher rating? (No need for any additional math/statistics, just interpret what you see in the plot.)"
   ]
  },
  {
   "cell_type": "code",
   "execution_count": null,
   "metadata": {},
   "outputs": [],
   "source": [
    "# Replace None with appropriate text\n",
    "\"\"\"\n",
    "we can see there is no correlation between price and rating, while the higher price is the only representation at the high rating\n",
    "its also the lowest rating and throughout the histogram we can see no clear correlation.\n",
    "\"\"\""
   ]
  },
  {
   "cell_type": "markdown",
   "metadata": {},
   "source": [
    "Finally, let's look at ratings vs. review counts:"
   ]
  },
  {
   "cell_type": "code",
   "execution_count": 23,
   "metadata": {},
   "outputs": [
    {
     "data": {
      "image/png": "[encoded data removed]",
      "text/plain": [
       "<Figure size 1152x360 with 1 Axes>"
      ]
     },
     "metadata": {
      "needs_background": "light"
     },
     "output_type": "display_data"
    }
   ],
   "source": [
    "# Run this cell without changes\n",
    "fig, ax = plt.subplots(figsize=(16,5))\n",
    "\n",
    "ax.scatter(all_review_counts, all_ratings, alpha=0.2)\n",
    "ax.set_xlabel(\"Number of Reviews\")\n",
    "ax.set_ylabel(\"Rating\")\n",
    "# \"zoom in\" to a subset of review counts\n",
    "ax.set_xlim(left=0, right=1000);"
   ]
  },
  {
   "cell_type": "markdown",
   "metadata": {},
   "source": [
    "Is a higher number of reviews associated with a higher rating?"
   ]
  },
  {
   "cell_type": "code",
   "execution_count": null,
   "metadata": {},
   "outputs": [],
   "source": [
    "# Replace None with appropriate text\n",
    "\"\"\"\n",
    "we can see our top rating Business (5) has small amount of rewiews.\n",
    "besides that we can see that rating avreges at 4.5-4, although not affected by amount of reviews per Business.\n",
    "\"\"\""
   ]
  },
  {
   "cell_type": "markdown",
   "metadata": {},
   "source": [
    "## 4. Create a Folium Map\n",
    "\n",
    "Make a map using Folium of the businesses you retrieved. Be sure to also add popups to the markers giving some basic information such as name, rating and price.\n",
    "\n",
    "You can center the map around the latitude and longitude of the first item in `full_dataset`."
   ]
  },
  {
   "cell_type": "code",
   "execution_count": 24,
   "metadata": {},
   "outputs": [
    {
     "data": {
      "text/html": [
       "<div style=\"width:100%;\"><div style=\"position:relative;width:100%;height:0;padding-bottom:60%;\"><span style=\"color:#565656\">Make this Notebook Trusted to load map: File -> Trust Notebook</span><iframe src=\"about:blank\" style=\"position:absolute;width:100%;height:100%;left:0;top:0;border:none !important;\" data-html=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 onload=\"this.contentDocument.open();this.contentDocument.write(atob(this.getAttribute('data-html')));this.contentDocument.close();\" allowfullscreen webkitallowfullscreen mozallowfullscreen></iframe></div></div>"
      ],
      "text/plain": [
       "<folium.folium.Map at 0x2497e974a60>"
      ]
     },
     "execution_count": 24,
     "metadata": {},
     "output_type": "execute_result"
    }
   ],
   "source": [
    "# Replace None with appropriate code\n",
    "\n",
    "# Import the library\n",
    "import folium\n",
    "\n",
    "# Set up center latitude and longitude\n",
    "center_lat = full_dataset[0][\"latitude\"]\n",
    "center_long = full_dataset[0][\"longitude\"]\n",
    "\n",
    "# Initialize map with center lat and long\n",
    "yelp_map =  folium.Map([center_lat, center_long], zoom_start=12)\n",
    "\n",
    "# Adjust this limit to see more or fewer businesses\n",
    "limit=100\n",
    "\n",
    "for business in full_dataset[:limit]:\n",
    "    # Extract information about business\n",
    "    lat = business[\"latitude\"]\n",
    "    long = business[\"longitude\"]\n",
    "    name = business[\"name\"]\n",
    "    rating = business[\"rating\"]\n",
    "    price = business[\"price\"]\n",
    "    details = \"{}\\nPrice: {} Rating:{}\".format(name,price,rating)\n",
    "    \n",
    "    # Create popup with relevant details\n",
    "    popup = folium.Popup(details)\n",
    "    \n",
    "    # Create marker with relevant lat/long and popup\n",
    "    marker = folium.Marker([lat, long], popup=popup)\n",
    "    \n",
    "    marker.add_to(yelp_map)\n",
    "    \n",
    "yelp_map"
   ]
  },
  {
   "cell_type": "markdown",
   "metadata": {},
   "source": [
    "## Summary\n",
    "\n",
    "Nice work! In this lab, you've made multiple API calls to Yelp in order to paginate through a results set, performing some basic exploratory analysis and then creating a nice interactive map to display the results using Folium! Well done!"
   ]
  }
 ],
 "metadata": {
  "kernelspec": {
   "display_name": "Python 3",
   "language": "python",
   "name": "python3"
  },
  "language_info": {
   "codemirror_mode": {
    "name": "ipython",
    "version": 3
   },
   "file_extension": ".py",
   "mimetype": "text/x-python",
   "name": "python",
   "nbconvert_exporter": "python",
   "pygments_lexer": "ipython3",
   "version": "3.8.5"
  },
  "toc": {
   "base_numbering": 1,
   "nav_menu": {},
   "number_sections": true,
   "sideBar": true,
   "skip_h1_title": false,
   "title_cell": "Table of Contents",
   "title_sidebar": "Contents",
   "toc_cell": false,
   "toc_position": {},
   "toc_section_display": true,
   "toc_window_display": false
  }
 },
 "nbformat": 4,
 "nbformat_minor": 2
}
